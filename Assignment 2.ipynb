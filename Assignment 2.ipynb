{
 "cells": [
  {
   "cell_type": "markdown",
   "id": "d80eb824",
   "metadata": {},
   "source": [
    "# Assignment 2\n",
    "\n",
    "17/02/2023\n",
    "\n",
    "**Adrian Jensen**"
   ]
  },
  {
   "cell_type": "code",
   "execution_count": 1,
   "id": "817ad8c4",
   "metadata": {},
   "outputs": [
    {
     "name": "stdout",
     "output_type": "stream",
     "text": [
      "The result of the calculation was: \n",
      "        149769\n"
     ]
    }
   ],
   "source": [
    "#question 1\n",
    "\n",
    "var1 = 100\n",
    "var2 = 29\n",
    " \n",
    "result = (var1 + var2)\n",
    "\n",
    "resultx3 = (result*3)\n",
    "\n",
    "finalresult =(resultx3*resultx3)\n",
    "\n",
    "print(\"The result of the calculation was: \\n        \" +str(finalresult))"
   ]
  },
  {
   "cell_type": "code",
   "execution_count": 2,
   "id": "da3e13c4",
   "metadata": {
    "scrolled": true
   },
   "outputs": [
    {
     "name": "stdout",
     "output_type": "stream",
     "text": [
      "Goodday Sir/Madam! We require some information from you before we can create an account for you here at Heaven Hospital\n",
      "Please input your first name: John\n",
      "Please input your year of birth: 1995\n",
      "Please input your age: 26\n",
      "Thank you for your information. We have constructed a temporary password based on some of your info.\n",
      "Please be sure to change it as soon as possible \n",
      "Your temporary password is: \n",
      "95Joh676\n"
     ]
    }
   ],
   "source": [
    "#question 2\n",
    "\n",
    "print(\"Goodday Sir/Madam! We require some information from you before we can create an account for you here at Heaven Hospital\")\n",
    "\n",
    "name = input('Please input your first name: ')\n",
    "birthyear = str(input('Please input your year of birth: '))\n",
    "age = int(input('Please input your age: '))\n",
    "agexage = (age*age)\n",
    "agexage = str(agexage)\n",
    "\n",
    "print(\"Thank you for your information. We have constructed a temporary password based on some of your info.\")\n",
    "print(\"Please be sure to change it as soon as possible \")\n",
    "\n",
    "\n",
    "print(\"Your temporary password is: \")\n",
    "print(birthyear[2:4]+name[0:3]+agexage)\n"
   ]
  },
  {
   "cell_type": "code",
   "execution_count": 3,
   "id": "203650d5",
   "metadata": {
    "scrolled": true
   },
   "outputs": [
    {
     "name": "stdout",
     "output_type": "stream",
     "text": [
      "Goodmorning random user! Please choose a random whole number: \n",
      "First number: 5\n",
      "Second number: 6\n",
      "One of the numbers is even.\n"
     ]
    }
   ],
   "source": [
    "#question 3\n",
    "print(\"Goodmorning random user! Please choose a random whole number: \")\n",
    "\n",
    "num1 = int(input(\"First number: \"))\n",
    "num2 = int(input (\"Second number: \"))\\\n",
    "\n",
    "if (num1 % 2 == 0 and num2 % 2 == 0): #both even\n",
    "    print(\"Both numbers are even.\")\n",
    "\n",
    "elif (num1 % 2 != 0 and num2 % 2 != 0): #both odd\n",
    "    print(\"Both number are odd.\")\n",
    "\n",
    "elif (num1 % 2 == 0) or (num2 % 2 == 0):\n",
    "    print(\"One of the numbers is even.\") # one odd\n",
    "\n",
    "else:\n",
    "    print(\"There is fuckery afoot. Please enter a whole number.\") #I fully understand that this is an impossible result\n"
   ]
  },
  {
   "cell_type": "code",
   "execution_count": 4,
   "id": "0ac5186e",
   "metadata": {},
   "outputs": [
    {
     "name": "stdout",
     "output_type": "stream",
     "text": [
      "Please choose a random number: 5\n",
      "10\n"
     ]
    }
   ],
   "source": [
    "#question 4 \n",
    "given_number = int(input(\"Please choose a random number: \"))\n",
    "sum_number = 0\n",
    "for temp in range(1,given_number):\n",
    "    sum_number += temp\n",
    "\n",
    "print(sum_number)\n"
   ]
  },
  {
   "cell_type": "code",
   "execution_count": 1,
   "id": "77aff3d4",
   "metadata": {
    "scrolled": true
   },
   "outputs": [
    {
     "name": "stdout",
     "output_type": "stream",
     "text": [
      "Welcome to the guesssing game. Please choose a number between 0 and 10\n",
      "Enter chosen number: 6\n",
      "Try a larger number! 7\n",
      "Try a larger number! 9\n",
      "That's right! Number of tries: 3\n",
      "Player Two! Your turn ;)\n",
      "Enter chosen number: 4\n",
      "Try a larger number! 7\n",
      "Try a smaller number! 6\n",
      "Try a smaller number! 5\n",
      "That's right! Number of tries:  4\n",
      "Congrats Player 1! You have fewer guesses and are therefore a giant nerd!\n"
     ]
    }
   ],
   "source": [
    "#question 5\n",
    "import random\n",
    "print(\"Welcome to the guesssing game. Please choose a number between 0 and 10\")\n",
    "\n",
    "rand1 = random.randint(0, 10)\n",
    "\n",
    "attempts1 = 1 #number of tries\n",
    "\n",
    "p1guess = int(input(\"Enter chosen number: \"))\n",
    "    \n",
    "while p1guess != rand1:\n",
    "    if p1guess < rand1:\n",
    "        p1guess = int(input(\"Try a larger number! \"))\n",
    "    \n",
    "    elif p1guess > rand1:\n",
    "        p1guess = int(input(\"Try a smaller number! \"))\n",
    "    \n",
    "    attempts1 += 1\n",
    "            \n",
    "if p1guess == rand1:\n",
    "    print(\"That's right! Number of tries:\", attempts1)\n",
    "    \n",
    "print(\"Player Two! Your turn ;)\")\n",
    "\n",
    "rand2 = random.randint(0, 10)\n",
    "\n",
    "attempts2 = 1\n",
    "\n",
    "p2guess = int(input(\"Enter chosen number: \"))\n",
    "\n",
    "while p2guess != rand2:\n",
    "    if p2guess <  rand2:\n",
    "        p2guess = int(input(\"Try a larger number! \"))\n",
    "        \n",
    "    elif p2guess > rand2:\n",
    "        p2guess = int(input(\"Try a smaller number! \"))\n",
    "    \n",
    "    attempts2 += 1\n",
    "\n",
    "if p2guess == rand2:\n",
    "    print(\"That's right! Number of tries: \", attempts2)\n",
    "\n",
    "if attempts1 < attempts2:\n",
    "    print(\"Congrats Player 1! You have fewer guesses and are therefore a giant nerd!\")\n",
    "elif attempts1 > attempts2:\n",
    "    print(\"Congrats Player 2! You have fewer guesses and are therefore a giant nerd!\")\n",
    "elif attempts1 == attempts2:\n",
    "    print(\"Congrats both of you! You had the same amount of guesses... Go reward yourselves with a cookie!\")"
   ]
  },
  {
   "cell_type": "code",
   "execution_count": null,
   "id": "0f5a6b8a",
   "metadata": {},
   "outputs": [],
   "source": []
  }
 ],
 "metadata": {
  "kernelspec": {
   "display_name": "Python 3 (ipykernel)",
   "language": "python",
   "name": "python3"
  },
  "language_info": {
   "codemirror_mode": {
    "name": "ipython",
    "version": 3
   },
   "file_extension": ".py",
   "mimetype": "text/x-python",
   "name": "python",
   "nbconvert_exporter": "python",
   "pygments_lexer": "ipython3",
   "version": "3.9.13"
  }
 },
 "nbformat": 4,
 "nbformat_minor": 5
}
